{
 "cells": [
  {
   "cell_type": "code",
   "execution_count": 1,
   "id": "73b2e635",
   "metadata": {},
   "outputs": [],
   "source": [
    "import torch\n",
    "from torchvision import transforms\n",
    "from torchvision.datasets import OxfordIIITPet\n",
    "import matplotlib.pyplot as plt\n",
    "from torch.utils.data import Dataset, DataLoader\n",
    "import os\n",
    "import cv2\n",
    "import numpy as np\n",
    "from PIL import Image\n",
    "import torch.nn as nn\n",
    "import torch.nn.functional as F\n",
    "from tqdm import tqdm"
   ]
  },
  {
   "cell_type": "code",
   "execution_count": 3,
   "id": "e20c0af4",
   "metadata": {},
   "outputs": [],
   "source": [
    "os.environ[\"CUDA_VISIBLE_DEVICES\"] = \"1\""
   ]
  },
  {
   "cell_type": "code",
   "execution_count": 4,
   "id": "45dda247",
   "metadata": {},
   "outputs": [],
   "source": [
    "class PetDataset(Dataset):\n",
    "    def __init__(self, root=\"data/oxford-iiit-pet\", is_train=True):\n",
    "        if is_train:\n",
    "            self.img_transform = transforms.Compose([\n",
    "                transforms.Resize((256, 256)),\n",
    "                transforms.RandomHorizontalFlip(p=0.5),\n",
    "                transforms.RandomRotation(degrees=15),\n",
    "                transforms.ColorJitter(brightness=0.2, contrast=0.2, saturation=0.2),\n",
    "                transforms.ToTensor(),\n",
    "                transforms.Normalize(mean=[0.485, 0.456, 0.406], std=[0.229, 0.224, 0.225])\n",
    "            ])\n",
    "            \n",
    "            self.mask_transform = transforms.Compose([\n",
    "                transforms.Resize((256, 256), interpolation=transforms.InterpolationMode.NEAREST),\n",
    "                transforms.RandomHorizontalFlip(p=0.5),\n",
    "                transforms.RandomRotation(degrees=15, interpolation=transforms.InterpolationMode.NEAREST),\n",
    "                transforms.PILToTensor()\n",
    "            ])\n",
    "        else:\n",
    "            self.img_transform  = transforms.Compose([\n",
    "                                transforms.Resize((256, 256)),\n",
    "                                transforms.ToTensor(),\n",
    "                                transforms.Normalize(mean=[0.485, 0.456, 0.406], std=[0.229, 0.224, 0.225])\n",
    "                            ])\n",
    "            \n",
    "            self.mask_transform = transforms.Compose([\n",
    "                                transforms.Resize((256, 256), interpolation=transforms.InterpolationMode.NEAREST),\n",
    "                                transforms.PILToTensor()\n",
    "                            ])\n",
    "        \n",
    "        self.classes = ['background', 'pet', 'outline']\n",
    "        self.root = root\n",
    "        self.is_train = is_train\n",
    "        \n",
    "        if is_train:\n",
    "            annotations = os.path.join(root, \"annotations\", \"trainval.txt\")\n",
    "        else:\n",
    "            annotations = os.path.join(root, \"annotations\", \"test.txt\")\n",
    "        \n",
    "        with open(annotations, 'r') as file:\n",
    "            self.img_names = [image.split(' ')[0] for image in file.readlines()]\n",
    "        \n",
    "        torch.manual_seed(42)\n",
    "        \n",
    "    def __len__(self):\n",
    "        return len(self.img_names)\n",
    "\n",
    "    def __getitem__(self, item):\n",
    "        img_name = self.img_names[item]\n",
    "        img_path = os.path.join(self.root, \"images\", img_name) + \".jpg\"\n",
    "        mask_path = os.path.join(self.root, \"annotations\", \"trimaps\", img_name) + \".png\"\n",
    "        \n",
    "        image = cv2.imread(img_path)\n",
    "        image = cv2.cvtColor(image, cv2.COLOR_BGR2RGB)\n",
    "        image = Image.fromarray(image)\n",
    "        \n",
    "        mask = cv2.imread(mask_path, cv2.IMREAD_GRAYSCALE)\n",
    "        mask_fixed = np.zeros_like(mask)\n",
    "        mask_fixed[mask == 2] = 0  # background\n",
    "        mask_fixed[mask == 1] = 1  # pet\n",
    "        mask_fixed[mask == 3] = 2  # outline\n",
    "        \n",
    "        mask = Image.fromarray(mask_fixed)\n",
    "        \n",
    "        if self.is_train:\n",
    "            seed = torch.Generator().manual_seed(hash((img_name, item)) % 2**32)\n",
    "            torch.manual_seed(seed.initial_seed())\n",
    "            image = self.img_transform(image)\n",
    "            torch.manual_seed(seed.initial_seed())\n",
    "            mask = self.mask_transform(mask)\n",
    "        else:\n",
    "            image = self.img_transform(image)\n",
    "            mask = self.mask_transform(mask)\n",
    "        \n",
    "        return image, mask"
   ]
  },
  {
   "cell_type": "code",
   "execution_count": 5,
   "id": "79b06fc8",
   "metadata": {},
   "outputs": [],
   "source": [
    "class UNet(nn.Module):\n",
    "    def __init__(self, in_channels = 3, out_channels = 3, dropout = False):\n",
    "        super(UNet, self).__init__()\n",
    "        def conv_Block(in_channel, out_channel):\n",
    "            layer =  nn.Sequential(\n",
    "                nn.Conv2d(in_channel, out_channel, kernel_size=3, padding=1, bias=False),\n",
    "                nn.BatchNorm2d(out_channel),\n",
    "                nn.ReLU(inplace=True),\n",
    "                nn.Conv2d(out_channel, out_channel, kernel_size=3, padding=1, bias=False),\n",
    "                nn.BatchNorm2d(out_channel),\n",
    "                nn.ReLU(inplace=True)\n",
    "            )\n",
    "            if dropout:\n",
    "                layer.append(nn.Dropout2d(0.2))\n",
    "            return layer\n",
    "        \n",
    "        self.enc1 = conv_Block(in_channels, 64)\n",
    "        self.pool1 = nn.MaxPool2d(2)\n",
    "        self.enc2 = conv_Block(64, 128)\n",
    "        self.pool2 = nn.MaxPool2d(2)\n",
    "        self.enc3 = conv_Block(128, 256)\n",
    "        self.pool3 = nn.MaxPool2d(2)\n",
    "        self.enc4 = conv_Block(256, 512)\n",
    "        self.pool4 = nn.MaxPool2d(2)\n",
    "        \n",
    "        self.bottle_neck = conv_Block(512, 1024)\n",
    "        \n",
    "        self.up4 = nn.ConvTranspose2d(1024, 512, 2, stride=2)\n",
    "        self.dec4 = conv_Block(1024, 512)\n",
    "        self.up3 = nn.ConvTranspose2d(512, 256, 2, stride=2)\n",
    "        self.dec3 = conv_Block(512, 256)\n",
    "        self.up2 = nn.ConvTranspose2d(256, 128, 2, stride=2)\n",
    "        self.dec2 = conv_Block(256, 128)\n",
    "        self.up1 = nn.ConvTranspose2d(128, 64, 2, stride=2)\n",
    "        self.dec1 = conv_Block(128, 64)\n",
    "        \n",
    "        self.final = nn.Conv2d(64, out_channels, kernel_size=1)\n",
    "        \n",
    "        # self._initialize_weights()\n",
    "    \n",
    "    def _initialize_weights(self):\n",
    "        for m in self.modules():\n",
    "            if isinstance(m, nn.Conv2d):\n",
    "                nn.init.kaiming_normal_(m.weight, mode='fan_out', nonlinearity='relu')\n",
    "                if m.bias is not None:\n",
    "                    nn.init.constant_(m.bias, 0)\n",
    "            elif isinstance(m, nn.BatchNorm2d):\n",
    "                nn.init.constant_(m.weight, 1)\n",
    "                nn.init.constant_(m.bias, 0)\n",
    "    \n",
    "    def forward(self, img):\n",
    "        e1 = self.enc1(img)\n",
    "        e2 = self.enc2(self.pool1(e1))\n",
    "        e3 = self.enc3(self.pool2(e2))\n",
    "        e4 = self.enc4(self.pool3(e3))\n",
    "        \n",
    "        b = self.bottle_neck(self.pool4(e4))\n",
    "        \n",
    "        d4 = self.up4(b)\n",
    "        d4 = self.dec4(torch.cat([d4, e4], dim=1))\n",
    "        d3 = self.up3(d4)\n",
    "        d3 = self.dec3(torch.cat([d3, e3], dim=1))\n",
    "        d2 = self.up2(d3)\n",
    "        d2 = self.dec2(torch.cat([d2, e2], dim=1))\n",
    "        d1 = self.up1(d2)\n",
    "        d1 = self.dec1(torch.cat([d1, e1], dim=1))\n",
    "        \n",
    "        return self.final(d1)"
   ]
  },
  {
   "cell_type": "code",
   "execution_count": 6,
   "id": "32b5c191",
   "metadata": {},
   "outputs": [],
   "source": [
    "class FocalLoss(nn.Module): # to overcome huge background influence\n",
    "    def __init__(self, alpha=1, gamma=2, weight=None):\n",
    "        super(FocalLoss, self).__init__()\n",
    "        self.alpha = alpha\n",
    "        self.gamma = gamma\n",
    "        self.weight = weight\n",
    "        \n",
    "    def forward(self, inputs, targets):\n",
    "        ce_loss = F.cross_entropy(inputs, targets, weight=self.weight, reduction='none')\n",
    "        pt = torch.exp(-ce_loss)\n",
    "        focal_loss = self.alpha * (1-pt)**self.gamma * ce_loss\n",
    "        return focal_loss.mean()\n",
    "\n",
    "class CombinedLoss(nn.Module):\n",
    "    def __init__(self, weight=None):\n",
    "        super(CombinedLoss, self).__init__()\n",
    "        self.focal_loss = FocalLoss(alpha=1, gamma=2, weight=weight)\n",
    "        self.ce_loss = nn.CrossEntropyLoss(weight=weight)\n",
    "        \n",
    "    def forward(self, inputs, targets):\n",
    "        focal = self.focal_loss(inputs, targets)\n",
    "        ce = self.ce_loss(inputs, targets)\n",
    "        return 0.7 * focal + 0.3 * ce"
   ]
  },
  {
   "cell_type": "code",
   "execution_count": 7,
   "id": "cae38950",
   "metadata": {},
   "outputs": [],
   "source": [
    "LEARNING_RATE = 1e-4\n",
    "EPOCHS = 100\n",
    "BATCH_SIZE = 8\n",
    "WEIGHT_DECAY = 1e-4\n",
    "\n",
    "train_dataset = PetDataset(is_train=True)\n",
    "val_dataset = PetDataset(is_train=False)\n",
    "\n",
    "train_dataloader = DataLoader(dataset=train_dataset, batch_size=BATCH_SIZE, num_workers=4, shuffle=True, drop_last=True, pin_memory=True)\n",
    "val_dataloader = DataLoader(dataset=val_dataset, batch_size=BATCH_SIZE, num_workers=4, shuffle=False, drop_last=True, pin_memory=True)"
   ]
  },
  {
   "cell_type": "code",
   "execution_count": 7,
   "id": "4e20fcc0",
   "metadata": {},
   "outputs": [
    {
     "name": "stdout",
     "output_type": "stream",
     "text": [
      "cuda\n"
     ]
    },
    {
     "name": "stderr",
     "output_type": "stream",
     "text": [
      "/users/pg24/manivannan/miniconda3/envs/newEnv/lib/python3.9/site-packages/torch/optim/lr_scheduler.py:62: UserWarning: The verbose parameter is deprecated. Please use get_last_lr() to access the learning rate.\n",
      "  warnings.warn(\n"
     ]
    }
   ],
   "source": [
    "device = torch.device(\"cuda\" if torch.cuda.is_available() else \"cpu\")\n",
    "print(device)\n",
    "model = UNet(in_channels=3, out_channels=3)\n",
    "model.to(device)\n",
    "\n",
    "optimizer = torch.optim.Adam(model.parameters(), lr=LEARNING_RATE, weight_decay=WEIGHT_DECAY)\n",
    "class_weights = torch.tensor([1.0, 2.0, 3.0]).to(device)\n",
    "criterion = CombinedLoss(weight=class_weights)\n",
    "scheduler = torch.optim.lr_scheduler.ReduceLROnPlateau(\n",
    "        optimizer, mode='min', factor=0.5, patience=10, verbose=True\n",
    "    )"
   ]
  },
  {
   "cell_type": "code",
   "execution_count": 8,
   "id": "79edf32e",
   "metadata": {},
   "outputs": [
    {
     "name": "stderr",
     "output_type": "stream",
     "text": [
      "Epoch 1/100 [Train]:   0%|          | 0/460 [00:08<?, ?it/s, loss=0.907]Corrupt JPEG data: 240 extraneous bytes before marker 0xd9\n",
      "Epoch 1/100 [Train]:   0%|          | 0/460 [00:25<?, ?it/s, loss=0.571]Corrupt JPEG data: premature end of data segment\n",
      "Epoch 1/100 [Train]:   0%|          | 0/460 [00:47<?, ?it/s, loss=0.498]"
     ]
    },
    {
     "name": "stdout",
     "output_type": "stream",
     "text": [
      "Epoch 1/100 - Train Loss: 0.6893, Val Loss: 0.5237\n",
      "New best model saved with validation loss: 0.5237\n"
     ]
    },
    {
     "name": "stderr",
     "output_type": "stream",
     "text": [
      "Epoch 1/100 [Train]:   0%|          | 0/460 [01:01<?, ?it/s, loss=0.498]\n",
      "Corrupt JPEG data: 240 extraneous bytes before marker 0xd9\n",
      "Corrupt JPEG data: premature end of data segment\n"
     ]
    },
    {
     "name": "stdout",
     "output_type": "stream",
     "text": [
      "Epoch 2/100 - Train Loss: 0.5122, Val Loss: 0.4665\n",
      "New best model saved with validation loss: 0.4665\n"
     ]
    },
    {
     "name": "stderr",
     "output_type": "stream",
     "text": [
      "Epoch 2/100 [Train]:   0%|          | 0/460 [01:02<?, ?it/s, loss=0.39]\n",
      "Epoch 3/100 [Train]:   0%|          | 0/460 [00:05<?, ?it/s, loss=0.504]Corrupt JPEG data: 240 extraneous bytes before marker 0xd9\n",
      "Epoch 3/100 [Train]:   0%|          | 0/460 [00:21<?, ?it/s, loss=0.439]Corrupt JPEG data: premature end of data segment\n",
      "Epoch 3/100 [Train]:   0%|          | 0/460 [00:46<?, ?it/s, loss=0.426]"
     ]
    },
    {
     "name": "stdout",
     "output_type": "stream",
     "text": [
      "Epoch 3/100 - Train Loss: 0.4592, Val Loss: 0.4517\n",
      "New best model saved with validation loss: 0.4517\n"
     ]
    },
    {
     "name": "stderr",
     "output_type": "stream",
     "text": [
      "Epoch 3/100 [Train]:   0%|          | 0/460 [01:02<?, ?it/s, loss=0.426]\n",
      "Corrupt JPEG data: premature end of data segment\n",
      "Corrupt JPEG data: 240 extraneous bytes before marker 0xd9\n"
     ]
    },
    {
     "name": "stdout",
     "output_type": "stream",
     "text": [
      "Epoch 4/100 - Train Loss: 0.4283, Val Loss: 0.4222\n",
      "New best model saved with validation loss: 0.4222\n"
     ]
    },
    {
     "name": "stderr",
     "output_type": "stream",
     "text": [
      "Epoch 4/100 [Train]:   0%|          | 0/460 [01:02<?, ?it/s, loss=0.433]\n",
      "Epoch 5/100 [Train]:   0%|          | 0/460 [00:06<?, ?it/s, loss=0.377]Corrupt JPEG data: 240 extraneous bytes before marker 0xd9\n",
      "Epoch 5/100 [Train]:   0%|          | 0/460 [00:18<?, ?it/s, loss=0.298]Corrupt JPEG data: premature end of data segment\n",
      "Epoch 5/100 [Train]:   0%|          | 0/460 [00:46<?, ?it/s, loss=0.37] "
     ]
    },
    {
     "name": "stdout",
     "output_type": "stream",
     "text": [
      "Epoch 5/100 - Train Loss: 0.4073, Val Loss: 0.3871\n",
      "New best model saved with validation loss: 0.3871\n"
     ]
    },
    {
     "name": "stderr",
     "output_type": "stream",
     "text": [
      "Epoch 5/100 [Train]:   0%|          | 0/460 [01:01<?, ?it/s, loss=0.37]\n",
      "Corrupt JPEG data: 240 extraneous bytes before marker 0xd9\n",
      "Corrupt JPEG data: premature end of data segment\n"
     ]
    },
    {
     "name": "stdout",
     "output_type": "stream",
     "text": [
      "Epoch 6/100 - Train Loss: 0.3845, Val Loss: 0.3667\n",
      "New best model saved with validation loss: 0.3667\n"
     ]
    },
    {
     "name": "stderr",
     "output_type": "stream",
     "text": [
      "Epoch 6/100 [Train]:   0%|          | 0/460 [01:02<?, ?it/s, loss=0.363]\n",
      "Epoch 7/100 [Train]:   0%|          | 0/460 [00:05<?, ?it/s, loss=0.381]Corrupt JPEG data: 240 extraneous bytes before marker 0xd9\n",
      "Epoch 7/100 [Train]:   0%|          | 0/460 [00:12<?, ?it/s, loss=0.349]Corrupt JPEG data: premature end of data segment\n",
      "Epoch 7/100 [Train]:   0%|          | 0/460 [00:46<?, ?it/s, loss=0.293]"
     ]
    },
    {
     "name": "stdout",
     "output_type": "stream",
     "text": [
      "Epoch 7/100 - Train Loss: 0.3718, Val Loss: 0.3868\n"
     ]
    },
    {
     "name": "stderr",
     "output_type": "stream",
     "text": [
      "Epoch 7/100 [Train]:   0%|          | 0/460 [01:00<?, ?it/s, loss=0.293]\n",
      "Corrupt JPEG data: 240 extraneous bytes before marker 0xd9\n",
      "Corrupt JPEG data: premature end of data segment\n"
     ]
    },
    {
     "name": "stdout",
     "output_type": "stream",
     "text": [
      "Epoch 8/100 - Train Loss: 0.3539, Val Loss: 0.3705\n"
     ]
    },
    {
     "name": "stderr",
     "output_type": "stream",
     "text": [
      "Epoch 8/100 [Train]:   0%|          | 0/460 [01:01<?, ?it/s, loss=0.405]\n",
      "Epoch 9/100 [Train]:   0%|          | 0/460 [00:23<?, ?it/s, loss=0.344]Corrupt JPEG data: premature end of data segment\n",
      "Epoch 9/100 [Train]:   0%|          | 0/460 [00:27<?, ?it/s, loss=0.268]Corrupt JPEG data: 240 extraneous bytes before marker 0xd9\n",
      "Epoch 9/100 [Train]:   0%|          | 0/460 [00:46<?, ?it/s, loss=0.368]"
     ]
    },
    {
     "name": "stdout",
     "output_type": "stream",
     "text": [
      "Epoch 9/100 - Train Loss: 0.3419, Val Loss: 0.3453\n",
      "New best model saved with validation loss: 0.3453\n"
     ]
    },
    {
     "name": "stderr",
     "output_type": "stream",
     "text": [
      "Epoch 9/100 [Train]:   0%|          | 0/460 [01:01<?, ?it/s, loss=0.368]\n",
      "Corrupt JPEG data: 240 extraneous bytes before marker 0xd9\n",
      "Corrupt JPEG data: premature end of data segment\n"
     ]
    },
    {
     "name": "stdout",
     "output_type": "stream",
     "text": [
      "Epoch 10/100 - Train Loss: 0.3302, Val Loss: 0.3627\n"
     ]
    },
    {
     "name": "stderr",
     "output_type": "stream",
     "text": [
      "Epoch 10/100 [Train]:   0%|          | 0/460 [01:01<?, ?it/s, loss=0.308]\n",
      "Epoch 11/100 [Train]:   0%|          | 0/460 [00:33<?, ?it/s, loss=0.241]Corrupt JPEG data: premature end of data segment\n",
      "Epoch 11/100 [Train]:   0%|          | 0/460 [00:38<?, ?it/s, loss=0.532]Corrupt JPEG data: 240 extraneous bytes before marker 0xd9\n",
      "Epoch 11/100 [Train]:   0%|          | 0/460 [00:46<?, ?it/s, loss=0.408]"
     ]
    },
    {
     "name": "stdout",
     "output_type": "stream",
     "text": [
      "Epoch 11/100 - Train Loss: 0.3196, Val Loss: 0.3283\n",
      "New best model saved with validation loss: 0.3283\n"
     ]
    },
    {
     "name": "stderr",
     "output_type": "stream",
     "text": [
      "Epoch 11/100 [Train]:   0%|          | 0/460 [01:02<?, ?it/s, loss=0.408]\n",
      "Corrupt JPEG data: premature end of data segment\n",
      "Corrupt JPEG data: 240 extraneous bytes before marker 0xd9\n"
     ]
    },
    {
     "name": "stdout",
     "output_type": "stream",
     "text": [
      "Epoch 12/100 - Train Loss: 0.3047, Val Loss: 0.3318\n"
     ]
    },
    {
     "name": "stderr",
     "output_type": "stream",
     "text": [
      "Epoch 12/100 [Train]:   0%|          | 0/460 [01:02<?, ?it/s, loss=0.277]\n",
      "Epoch 13/100 [Train]:   0%|          | 0/460 [00:17<?, ?it/s, loss=0.208]Corrupt JPEG data: premature end of data segment\n",
      "Epoch 13/100 [Train]:   0%|          | 0/460 [00:39<?, ?it/s, loss=0.303]Corrupt JPEG data: 240 extraneous bytes before marker 0xd9\n",
      "Epoch 13/100 [Train]:   0%|          | 0/460 [00:46<?, ?it/s, loss=0.308]"
     ]
    },
    {
     "name": "stdout",
     "output_type": "stream",
     "text": [
      "Epoch 13/100 - Train Loss: 0.2963, Val Loss: 0.3475\n"
     ]
    },
    {
     "name": "stderr",
     "output_type": "stream",
     "text": [
      "Epoch 13/100 [Train]:   0%|          | 0/460 [01:01<?, ?it/s, loss=0.308]\n",
      "Corrupt JPEG data: 240 extraneous bytes before marker 0xd9\n",
      "Corrupt JPEG data: premature end of data segment\n"
     ]
    },
    {
     "name": "stdout",
     "output_type": "stream",
     "text": [
      "Epoch 14/100 - Train Loss: 0.2899, Val Loss: 0.3197\n",
      "New best model saved with validation loss: 0.3197\n"
     ]
    },
    {
     "name": "stderr",
     "output_type": "stream",
     "text": [
      "Epoch 14/100 [Train]:   0%|          | 0/460 [01:03<?, ?it/s, loss=0.346]\n",
      "Epoch 15/100 [Train]:   0%|          | 0/460 [00:02<?, ?it/s, loss=0.291]Corrupt JPEG data: 240 extraneous bytes before marker 0xd9\n",
      "Epoch 15/100 [Train]:   0%|          | 0/460 [00:07<?, ?it/s, loss=0.346]Corrupt JPEG data: premature end of data segment\n",
      "Epoch 15/100 [Train]:   0%|          | 0/460 [00:46<?, ?it/s, loss=0.474]"
     ]
    },
    {
     "name": "stdout",
     "output_type": "stream",
     "text": [
      "Epoch 15/100 - Train Loss: 0.2785, Val Loss: 0.3201\n"
     ]
    },
    {
     "name": "stderr",
     "output_type": "stream",
     "text": [
      "Epoch 15/100 [Train]:   0%|          | 0/460 [01:01<?, ?it/s, loss=0.474]\n",
      "Corrupt JPEG data: 240 extraneous bytes before marker 0xd9\n",
      "Corrupt JPEG data: premature end of data segment\n"
     ]
    },
    {
     "name": "stdout",
     "output_type": "stream",
     "text": [
      "Epoch 16/100 - Train Loss: 0.2691, Val Loss: 0.3408\n"
     ]
    },
    {
     "name": "stderr",
     "output_type": "stream",
     "text": [
      "Epoch 16/100 [Train]:   0%|          | 0/460 [01:02<?, ?it/s, loss=0.196]\n",
      "Epoch 17/100 [Train]:   0%|          | 0/460 [00:08<?, ?it/s, loss=0.227]Corrupt JPEG data: premature end of data segment\n",
      "Epoch 17/100 [Train]:   0%|          | 0/460 [00:12<?, ?it/s, loss=0.191]Corrupt JPEG data: 240 extraneous bytes before marker 0xd9\n",
      "Epoch 17/100 [Train]:   0%|          | 0/460 [00:46<?, ?it/s, loss=0.265]"
     ]
    },
    {
     "name": "stdout",
     "output_type": "stream",
     "text": [
      "Epoch 17/100 - Train Loss: 0.2593, Val Loss: 0.3207\n"
     ]
    },
    {
     "name": "stderr",
     "output_type": "stream",
     "text": [
      "Epoch 17/100 [Train]:   0%|          | 0/460 [01:01<?, ?it/s, loss=0.265]\n",
      "Corrupt JPEG data: 240 extraneous bytes before marker 0xd9\n",
      "Corrupt JPEG data: premature end of data segment\n"
     ]
    },
    {
     "name": "stdout",
     "output_type": "stream",
     "text": [
      "Epoch 18/100 - Train Loss: 0.2518, Val Loss: 0.3285\n"
     ]
    },
    {
     "name": "stderr",
     "output_type": "stream",
     "text": [
      "Epoch 18/100 [Train]:   0%|          | 0/460 [01:02<?, ?it/s, loss=0.221]\n",
      "Epoch 19/100 [Train]:   0%|          | 0/460 [00:20<?, ?it/s, loss=0.19] Corrupt JPEG data: premature end of data segment\n",
      "Epoch 19/100 [Train]:   0%|          | 0/460 [00:22<?, ?it/s, loss=0.245]Corrupt JPEG data: 240 extraneous bytes before marker 0xd9\n",
      "Epoch 19/100 [Train]:   0%|          | 0/460 [00:46<?, ?it/s, loss=0.204]"
     ]
    },
    {
     "name": "stdout",
     "output_type": "stream",
     "text": [
      "Epoch 19/100 - Train Loss: 0.2439, Val Loss: 0.3249\n"
     ]
    },
    {
     "name": "stderr",
     "output_type": "stream",
     "text": [
      "Epoch 19/100 [Train]:   0%|          | 0/460 [01:01<?, ?it/s, loss=0.204]\n",
      "Corrupt JPEG data: 240 extraneous bytes before marker 0xd9\n",
      "Corrupt JPEG data: premature end of data segment\n"
     ]
    },
    {
     "name": "stdout",
     "output_type": "stream",
     "text": [
      "Epoch 20/100 - Train Loss: 0.2340, Val Loss: 0.3463\n"
     ]
    },
    {
     "name": "stderr",
     "output_type": "stream",
     "text": [
      "Epoch 20/100 [Train]:   0%|          | 0/460 [01:01<?, ?it/s, loss=0.25]\n",
      "Epoch 21/100 [Train]:   0%|          | 0/460 [00:42<?, ?it/s, loss=0.27] Corrupt JPEG data: 240 extraneous bytes before marker 0xd9\n",
      "Epoch 21/100 [Train]:   0%|          | 0/460 [00:44<?, ?it/s, loss=0.259]Corrupt JPEG data: premature end of data segment\n",
      "Epoch 21/100 [Train]:   0%|          | 0/460 [00:46<?, ?it/s, loss=0.173]"
     ]
    },
    {
     "name": "stdout",
     "output_type": "stream",
     "text": [
      "Epoch 21/100 - Train Loss: 0.2278, Val Loss: 0.3269\n"
     ]
    },
    {
     "name": "stderr",
     "output_type": "stream",
     "text": [
      "Epoch 21/100 [Train]:   0%|          | 0/460 [01:01<?, ?it/s, loss=0.173]\n",
      "Corrupt JPEG data: premature end of data segment\n",
      "Corrupt JPEG data: 240 extraneous bytes before marker 0xd9\n"
     ]
    },
    {
     "name": "stdout",
     "output_type": "stream",
     "text": [
      "Epoch 22/100 - Train Loss: 0.2197, Val Loss: 0.3368\n"
     ]
    },
    {
     "name": "stderr",
     "output_type": "stream",
     "text": [
      "Epoch 22/100 [Train]:   0%|          | 0/460 [01:02<?, ?it/s, loss=0.152]\n",
      "Epoch 23/100 [Train]:   0%|          | 0/460 [00:18<?, ?it/s, loss=0.176]Corrupt JPEG data: 240 extraneous bytes before marker 0xd9\n",
      "Epoch 23/100 [Train]:   0%|          | 0/460 [00:38<?, ?it/s, loss=0.348]Corrupt JPEG data: premature end of data segment\n",
      "Epoch 23/100 [Train]:   0%|          | 0/460 [00:46<?, ?it/s, loss=0.195]"
     ]
    },
    {
     "name": "stdout",
     "output_type": "stream",
     "text": [
      "Epoch 23/100 - Train Loss: 0.2162, Val Loss: 0.3046\n",
      "New best model saved with validation loss: 0.3046\n"
     ]
    },
    {
     "name": "stderr",
     "output_type": "stream",
     "text": [
      "Epoch 23/100 [Train]:   0%|          | 0/460 [01:02<?, ?it/s, loss=0.195]\n",
      "Corrupt JPEG data: 240 extraneous bytes before marker 0xd9\n",
      "Corrupt JPEG data: premature end of data segment\n"
     ]
    },
    {
     "name": "stdout",
     "output_type": "stream",
     "text": [
      "Epoch 24/100 - Train Loss: 0.2075, Val Loss: 0.3286\n"
     ]
    },
    {
     "name": "stderr",
     "output_type": "stream",
     "text": [
      "Epoch 24/100 [Train]:   0%|          | 0/460 [01:01<?, ?it/s, loss=0.19]\n",
      "Corrupt JPEG data: premature end of data segment\n",
      "Epoch 25/100 [Train]:   0%|          | 0/460 [00:32<?, ?it/s, loss=0.261]Corrupt JPEG data: 240 extraneous bytes before marker 0xd9\n",
      "Epoch 25/100 [Train]:   0%|          | 0/460 [00:46<?, ?it/s, loss=0.215]"
     ]
    },
    {
     "name": "stdout",
     "output_type": "stream",
     "text": [
      "Epoch 25/100 - Train Loss: 0.2000, Val Loss: 0.3446\n"
     ]
    },
    {
     "name": "stderr",
     "output_type": "stream",
     "text": [
      "Epoch 25/100 [Train]:   0%|          | 0/460 [01:01<?, ?it/s, loss=0.215]\n",
      "Corrupt JPEG data: 240 extraneous bytes before marker 0xd9\n",
      "Corrupt JPEG data: premature end of data segment\n"
     ]
    },
    {
     "name": "stdout",
     "output_type": "stream",
     "text": [
      "Epoch 26/100 - Train Loss: 0.1935, Val Loss: 0.3369\n"
     ]
    },
    {
     "name": "stderr",
     "output_type": "stream",
     "text": [
      "Epoch 26/100 [Train]:   0%|          | 0/460 [01:01<?, ?it/s, loss=0.163]\n",
      "Epoch 27/100 [Train]:   0%|          | 0/460 [00:12<?, ?it/s, loss=0.212]Corrupt JPEG data: 240 extraneous bytes before marker 0xd9\n",
      "Epoch 27/100 [Train]:   0%|          | 0/460 [00:32<?, ?it/s, loss=0.202]Corrupt JPEG data: premature end of data segment\n",
      "Epoch 27/100 [Train]:   0%|          | 0/460 [00:46<?, ?it/s, loss=0.211]"
     ]
    },
    {
     "name": "stdout",
     "output_type": "stream",
     "text": [
      "Epoch 27/100 - Train Loss: 0.1908, Val Loss: 0.3676\n"
     ]
    },
    {
     "name": "stderr",
     "output_type": "stream",
     "text": [
      "Epoch 27/100 [Train]:   0%|          | 0/460 [01:01<?, ?it/s, loss=0.211]\n",
      "Corrupt JPEG data: 240 extraneous bytes before marker 0xd9\n",
      "Corrupt JPEG data: premature end of data segment\n"
     ]
    },
    {
     "name": "stdout",
     "output_type": "stream",
     "text": [
      "Epoch 28/100 - Train Loss: 0.1834, Val Loss: 0.4195\n"
     ]
    },
    {
     "name": "stderr",
     "output_type": "stream",
     "text": [
      "Epoch 28/100 [Train]:   0%|          | 0/460 [01:02<?, ?it/s, loss=0.238]\n",
      "Epoch 29/100 [Train]:   0%|          | 0/460 [00:03<?, ?it/s, loss=0.421]Corrupt JPEG data: 240 extraneous bytes before marker 0xd9\n",
      "Epoch 29/100 [Train]:   0%|          | 0/460 [00:25<?, ?it/s, loss=0.162]Corrupt JPEG data: premature end of data segment\n",
      "Epoch 29/100 [Train]:   0%|          | 0/460 [00:46<?, ?it/s, loss=0.196]"
     ]
    },
    {
     "name": "stdout",
     "output_type": "stream",
     "text": [
      "Epoch 29/100 - Train Loss: 0.1797, Val Loss: 0.4262\n"
     ]
    },
    {
     "name": "stderr",
     "output_type": "stream",
     "text": [
      "Epoch 29/100 [Train]:   0%|          | 0/460 [01:01<?, ?it/s, loss=0.196]\n",
      "Corrupt JPEG data: premature end of data segment\n",
      "Corrupt JPEG data: 240 extraneous bytes before marker 0xd9\n"
     ]
    },
    {
     "name": "stdout",
     "output_type": "stream",
     "text": [
      "Epoch 30/100 - Train Loss: 0.1735, Val Loss: 0.3470\n"
     ]
    },
    {
     "name": "stderr",
     "output_type": "stream",
     "text": [
      "Epoch 30/100 [Train]:   0%|          | 0/460 [01:01<?, ?it/s, loss=0.187]\n",
      "Epoch 31/100 [Train]:   0%|          | 0/460 [00:07<?, ?it/s, loss=0.182]Corrupt JPEG data: 240 extraneous bytes before marker 0xd9\n",
      "Epoch 31/100 [Train]:   0%|          | 0/460 [00:33<?, ?it/s, loss=0.169]Corrupt JPEG data: premature end of data segment\n",
      "Epoch 31/100 [Train]:   0%|          | 0/460 [00:46<?, ?it/s, loss=0.145]"
     ]
    },
    {
     "name": "stdout",
     "output_type": "stream",
     "text": [
      "Epoch 31/100 - Train Loss: 0.1690, Val Loss: 0.3723\n"
     ]
    },
    {
     "name": "stderr",
     "output_type": "stream",
     "text": [
      "Epoch 31/100 [Train]:   0%|          | 0/460 [01:01<?, ?it/s, loss=0.145]\n",
      "Corrupt JPEG data: 240 extraneous bytes before marker 0xd9\n",
      "Corrupt JPEG data: premature end of data segment\n"
     ]
    },
    {
     "name": "stdout",
     "output_type": "stream",
     "text": [
      "Epoch 32/100 - Train Loss: 0.1658, Val Loss: 0.3662\n"
     ]
    },
    {
     "name": "stderr",
     "output_type": "stream",
     "text": [
      "Epoch 32/100 [Train]:   0%|          | 0/460 [01:01<?, ?it/s, loss=0.151]\n",
      "Epoch 33/100 [Train]:   0%|          | 0/460 [00:32<?, ?it/s, loss=0.171]Corrupt JPEG data: 240 extraneous bytes before marker 0xd9\n",
      "Epoch 33/100 [Train]:   0%|          | 0/460 [00:44<?, ?it/s, loss=0.189]Corrupt JPEG data: premature end of data segment\n",
      "Epoch 33/100 [Train]:   0%|          | 0/460 [00:46<?, ?it/s, loss=0.182]"
     ]
    },
    {
     "name": "stdout",
     "output_type": "stream",
     "text": [
      "Epoch 33/100 - Train Loss: 0.1639, Val Loss: 0.3521\n"
     ]
    },
    {
     "name": "stderr",
     "output_type": "stream",
     "text": [
      "Epoch 33/100 [Train]:   0%|          | 0/460 [01:01<?, ?it/s, loss=0.182]\n",
      "Corrupt JPEG data: premature end of data segment\n",
      "Corrupt JPEG data: 240 extraneous bytes before marker 0xd9\n"
     ]
    },
    {
     "name": "stdout",
     "output_type": "stream",
     "text": [
      "Epoch 34/100 - Train Loss: 0.1563, Val Loss: 0.3774\n"
     ]
    },
    {
     "name": "stderr",
     "output_type": "stream",
     "text": [
      "Epoch 34/100 [Train]:   0%|          | 0/460 [01:02<?, ?it/s, loss=0.184]\n",
      "Epoch 35/100 [Train]:   0%|          | 0/460 [00:24<?, ?it/s, loss=0.112] Corrupt JPEG data: 240 extraneous bytes before marker 0xd9\n",
      "Epoch 35/100 [Train]:   0%|          | 0/460 [00:36<?, ?it/s, loss=0.103]Corrupt JPEG data: premature end of data segment\n",
      "Epoch 35/100 [Train]:   0%|          | 0/460 [00:46<?, ?it/s, loss=0.12] "
     ]
    },
    {
     "name": "stdout",
     "output_type": "stream",
     "text": [
      "Epoch 35/100 - Train Loss: 0.1331, Val Loss: 0.3752\n"
     ]
    },
    {
     "name": "stderr",
     "output_type": "stream",
     "text": [
      "Epoch 35/100 [Train]:   0%|          | 0/460 [01:01<?, ?it/s, loss=0.12]\n",
      "Corrupt JPEG data: premature end of data segment\n",
      "Corrupt JPEG data: 240 extraneous bytes before marker 0xd9\n"
     ]
    },
    {
     "name": "stdout",
     "output_type": "stream",
     "text": [
      "Epoch 36/100 - Train Loss: 0.1257, Val Loss: 0.3879\n"
     ]
    },
    {
     "name": "stderr",
     "output_type": "stream",
     "text": [
      "Epoch 36/100 [Train]:   0%|          | 0/460 [01:02<?, ?it/s, loss=0.141]\n",
      "Epoch 37/100 [Train]:   0%|          | 0/460 [00:20<?, ?it/s, loss=0.119] Corrupt JPEG data: 240 extraneous bytes before marker 0xd9\n",
      "Epoch 37/100 [Train]:   0%|          | 0/460 [00:25<?, ?it/s, loss=0.145] Corrupt JPEG data: premature end of data segment\n",
      "Epoch 37/100 [Train]:   0%|          | 0/460 [00:46<?, ?it/s, loss=0.128] "
     ]
    },
    {
     "name": "stdout",
     "output_type": "stream",
     "text": [
      "Epoch 37/100 - Train Loss: 0.1203, Val Loss: 0.4194\n"
     ]
    },
    {
     "name": "stderr",
     "output_type": "stream",
     "text": [
      "Epoch 37/100 [Train]:   0%|          | 0/460 [01:00<?, ?it/s, loss=0.128]\n",
      "Corrupt JPEG data: 240 extraneous bytes before marker 0xd9\n",
      "Corrupt JPEG data: premature end of data segment\n"
     ]
    },
    {
     "name": "stdout",
     "output_type": "stream",
     "text": [
      "Epoch 38/100 - Train Loss: 0.1176, Val Loss: 0.4346\n"
     ]
    },
    {
     "name": "stderr",
     "output_type": "stream",
     "text": [
      "Epoch 38/100 [Train]:   0%|          | 0/460 [01:01<?, ?it/s, loss=0.125]\n",
      "Epoch 39/100 [Train]:   0%|          | 0/460 [00:10<?, ?it/s, loss=0.108] Corrupt JPEG data: 240 extraneous bytes before marker 0xd9\n",
      "Epoch 39/100 [Train]:   0%|          | 0/460 [00:42<?, ?it/s, loss=0.106] Corrupt JPEG data: premature end of data segment\n",
      "Epoch 39/100 [Train]:   0%|          | 0/460 [00:46<?, ?it/s, loss=0.107] "
     ]
    },
    {
     "name": "stdout",
     "output_type": "stream",
     "text": [
      "Epoch 39/100 - Train Loss: 0.1148, Val Loss: 0.4593\n"
     ]
    },
    {
     "name": "stderr",
     "output_type": "stream",
     "text": [
      "Epoch 39/100 [Train]:   0%|          | 0/460 [01:01<?, ?it/s, loss=0.107]\n",
      "Corrupt JPEG data: 240 extraneous bytes before marker 0xd9\n",
      "Corrupt JPEG data: premature end of data segment\n"
     ]
    },
    {
     "name": "stdout",
     "output_type": "stream",
     "text": [
      "Epoch 40/100 - Train Loss: 0.1129, Val Loss: 0.4627\n"
     ]
    },
    {
     "name": "stderr",
     "output_type": "stream",
     "text": [
      "Epoch 40/100 [Train]:   0%|          | 0/460 [01:01<?, ?it/s, loss=0.159]\n",
      "Epoch 41/100 [Train]:   0%|          | 0/460 [00:11<?, ?it/s, loss=0.127] Corrupt JPEG data: 240 extraneous bytes before marker 0xd9\n",
      "Epoch 41/100 [Train]:   0%|          | 0/460 [00:31<?, ?it/s, loss=0.116] Corrupt JPEG data: premature end of data segment\n",
      "Epoch 41/100 [Train]:   0%|          | 0/460 [00:46<?, ?it/s, loss=0.11]  "
     ]
    },
    {
     "name": "stdout",
     "output_type": "stream",
     "text": [
      "Epoch 41/100 - Train Loss: 0.1090, Val Loss: 0.4626\n"
     ]
    },
    {
     "name": "stderr",
     "output_type": "stream",
     "text": [
      "Epoch 41/100 [Train]:   0%|          | 0/460 [01:01<?, ?it/s, loss=0.11]\n",
      "Corrupt JPEG data: 240 extraneous bytes before marker 0xd9\n",
      "Corrupt JPEG data: premature end of data segment\n"
     ]
    },
    {
     "name": "stdout",
     "output_type": "stream",
     "text": [
      "Epoch 42/100 - Train Loss: 0.1066, Val Loss: 0.4710\n"
     ]
    },
    {
     "name": "stderr",
     "output_type": "stream",
     "text": [
      "Epoch 42/100 [Train]:   0%|          | 0/460 [01:02<?, ?it/s, loss=0.0924]\n",
      "Epoch 43/100 [Train]:   0%|          | 0/460 [00:11<?, ?it/s, loss=0.112] Corrupt JPEG data: premature end of data segment\n",
      "Epoch 43/100 [Train]:   0%|          | 0/460 [00:38<?, ?it/s, loss=0.093] Corrupt JPEG data: 240 extraneous bytes before marker 0xd9\n",
      "Epoch 43/100 [Train]:   0%|          | 0/460 [00:46<?, ?it/s, loss=0.0971]"
     ]
    },
    {
     "name": "stdout",
     "output_type": "stream",
     "text": [
      "Epoch 43/100 - Train Loss: 0.1036, Val Loss: 0.4714\n"
     ]
    },
    {
     "name": "stderr",
     "output_type": "stream",
     "text": [
      "Epoch 43/100 [Train]:   0%|          | 0/460 [01:01<?, ?it/s, loss=0.0971]\n",
      "Corrupt JPEG data: premature end of data segment\n",
      "Corrupt JPEG data: 240 extraneous bytes before marker 0xd9\n"
     ]
    },
    {
     "name": "stdout",
     "output_type": "stream",
     "text": [
      "Epoch 44/100 - Train Loss: 0.1023, Val Loss: 0.4736\n"
     ]
    },
    {
     "name": "stderr",
     "output_type": "stream",
     "text": [
      "Epoch 44/100 [Train]:   0%|          | 0/460 [01:02<?, ?it/s, loss=0.103]\n",
      "Epoch 45/100 [Train]:   0%|          | 0/460 [00:26<?, ?it/s, loss=0.108] Corrupt JPEG data: premature end of data segment\n",
      "Epoch 45/100 [Train]:   0%|          | 0/460 [00:43<?, ?it/s, loss=0.0983]Corrupt JPEG data: 240 extraneous bytes before marker 0xd9\n",
      "Epoch 45/100 [Train]:   0%|          | 0/460 [00:46<?, ?it/s, loss=0.0873]"
     ]
    },
    {
     "name": "stdout",
     "output_type": "stream",
     "text": [
      "Epoch 45/100 - Train Loss: 0.0987, Val Loss: 0.4760\n"
     ]
    },
    {
     "name": "stderr",
     "output_type": "stream",
     "text": [
      "Epoch 45/100 [Train]:   0%|          | 0/460 [01:01<?, ?it/s, loss=0.0873]\n",
      "Corrupt JPEG data: 240 extraneous bytes before marker 0xd9\n",
      "Corrupt JPEG data: premature end of data segment\n"
     ]
    },
    {
     "name": "stdout",
     "output_type": "stream",
     "text": [
      "Epoch 46/100 - Train Loss: 0.0889, Val Loss: 0.4879\n"
     ]
    },
    {
     "name": "stderr",
     "output_type": "stream",
     "text": [
      "Epoch 46/100 [Train]:   0%|          | 0/460 [01:02<?, ?it/s, loss=0.0968]\n",
      "Epoch 47/100 [Train]:   0%|          | 0/460 [00:01<?, ?it/s, loss=0.0911]Corrupt JPEG data: premature end of data segment\n",
      "Epoch 47/100 [Train]:   0%|          | 0/460 [00:10<?, ?it/s, loss=0.0891]Corrupt JPEG data: 240 extraneous bytes before marker 0xd9\n",
      "Epoch 47/100 [Train]:   0%|          | 0/460 [00:46<?, ?it/s, loss=0.0843]"
     ]
    },
    {
     "name": "stdout",
     "output_type": "stream",
     "text": [
      "Epoch 47/100 - Train Loss: 0.0833, Val Loss: 0.5086\n"
     ]
    },
    {
     "name": "stderr",
     "output_type": "stream",
     "text": [
      "Epoch 47/100 [Train]:   0%|          | 0/460 [01:01<?, ?it/s, loss=0.0843]\n",
      "Corrupt JPEG data: 240 extraneous bytes before marker 0xd9\n",
      "Corrupt JPEG data: premature end of data segment\n"
     ]
    },
    {
     "name": "stdout",
     "output_type": "stream",
     "text": [
      "Epoch 48/100 - Train Loss: 0.0811, Val Loss: 0.5153\n"
     ]
    },
    {
     "name": "stderr",
     "output_type": "stream",
     "text": [
      "Epoch 48/100 [Train]:   0%|          | 0/460 [01:01<?, ?it/s, loss=0.0785]\n",
      "Epoch 49/100 [Train]:   0%|          | 0/460 [00:12<?, ?it/s, loss=0.0835]Corrupt JPEG data: premature end of data segment\n",
      "Epoch 49/100 [Train]:   0%|          | 0/460 [00:41<?, ?it/s, loss=0.0879]Corrupt JPEG data: 240 extraneous bytes before marker 0xd9\n",
      "Epoch 49/100 [Train]:   0%|          | 0/460 [00:46<?, ?it/s, loss=0.0771]"
     ]
    },
    {
     "name": "stdout",
     "output_type": "stream",
     "text": [
      "Epoch 49/100 - Train Loss: 0.0783, Val Loss: 0.5481\n"
     ]
    },
    {
     "name": "stderr",
     "output_type": "stream",
     "text": [
      "Epoch 49/100 [Train]:   0%|          | 0/460 [01:01<?, ?it/s, loss=0.0771]\n",
      "Corrupt JPEG data: 240 extraneous bytes before marker 0xd9\n",
      "Corrupt JPEG data: premature end of data segment\n"
     ]
    },
    {
     "name": "stdout",
     "output_type": "stream",
     "text": [
      "Epoch 50/100 - Train Loss: 0.0760, Val Loss: 0.5255\n"
     ]
    },
    {
     "name": "stderr",
     "output_type": "stream",
     "text": [
      "Epoch 50/100 [Train]:   0%|          | 0/460 [01:01<?, ?it/s, loss=0.077]\n",
      "Epoch 51/100 [Train]:   0%|          | 0/460 [00:24<?, ?it/s, loss=0.0756]Corrupt JPEG data: 240 extraneous bytes before marker 0xd9\n",
      "Epoch 51/100 [Train]:   0%|          | 0/460 [00:27<?, ?it/s, loss=0.0763]Corrupt JPEG data: premature end of data segment\n",
      "Epoch 51/100 [Train]:   0%|          | 0/460 [00:46<?, ?it/s, loss=0.0704]"
     ]
    },
    {
     "name": "stdout",
     "output_type": "stream",
     "text": [
      "Epoch 51/100 - Train Loss: 0.0737, Val Loss: 0.5717\n"
     ]
    },
    {
     "name": "stderr",
     "output_type": "stream",
     "text": [
      "Epoch 51/100 [Train]:   0%|          | 0/460 [01:00<?, ?it/s, loss=0.0704]\n",
      "Corrupt JPEG data: 240 extraneous bytes before marker 0xd9\n",
      "Corrupt JPEG data: premature end of data segment\n"
     ]
    },
    {
     "name": "stdout",
     "output_type": "stream",
     "text": [
      "Epoch 52/100 - Train Loss: 0.0718, Val Loss: 0.5773\n"
     ]
    },
    {
     "name": "stderr",
     "output_type": "stream",
     "text": [
      "Epoch 52/100 [Train]:   0%|          | 0/460 [01:02<?, ?it/s, loss=0.068]\n",
      "Epoch 53/100 [Train]:   0%|          | 0/460 [00:18<?, ?it/s, loss=0.0846]Corrupt JPEG data: premature end of data segment\n",
      "Epoch 53/100 [Train]:   0%|          | 0/460 [00:45<?, ?it/s, loss=0.0764]Corrupt JPEG data: 240 extraneous bytes before marker 0xd9\n",
      "Epoch 53/100 [Train]:   0%|          | 0/460 [00:46<?, ?it/s, loss=0.0606]"
     ]
    },
    {
     "name": "stdout",
     "output_type": "stream",
     "text": [
      "Epoch 53/100 - Train Loss: 0.0699, Val Loss: 0.5600\n"
     ]
    },
    {
     "name": "stderr",
     "output_type": "stream",
     "text": [
      "Epoch 53/100 [Train]:   0%|          | 0/460 [01:01<?, ?it/s, loss=0.0606]\n",
      "Corrupt JPEG data: premature end of data segment\n",
      "Corrupt JPEG data: 240 extraneous bytes before marker 0xd9\n"
     ]
    },
    {
     "name": "stdout",
     "output_type": "stream",
     "text": [
      "Epoch 54/100 - Train Loss: 0.0674, Val Loss: 0.5733\n"
     ]
    },
    {
     "name": "stderr",
     "output_type": "stream",
     "text": [
      "Epoch 54/100 [Train]:   0%|          | 0/460 [01:01<?, ?it/s, loss=0.0796]\n",
      "Epoch 55/100 [Train]:   0%|          | 0/460 [00:03<?, ?it/s, loss=0.0637]Corrupt JPEG data: 240 extraneous bytes before marker 0xd9\n",
      "Epoch 55/100 [Train]:   0%|          | 0/460 [00:26<?, ?it/s, loss=0.0642]Corrupt JPEG data: premature end of data segment\n",
      "Epoch 55/100 [Train]:   0%|          | 0/460 [00:46<?, ?it/s, loss=0.0682]"
     ]
    },
    {
     "name": "stdout",
     "output_type": "stream",
     "text": [
      "Epoch 55/100 - Train Loss: 0.0661, Val Loss: 0.5722\n"
     ]
    },
    {
     "name": "stderr",
     "output_type": "stream",
     "text": [
      "Epoch 55/100 [Train]:   0%|          | 0/460 [01:01<?, ?it/s, loss=0.0682]\n",
      "Corrupt JPEG data: premature end of data segment\n",
      "Corrupt JPEG data: 240 extraneous bytes before marker 0xd9\n"
     ]
    },
    {
     "name": "stdout",
     "output_type": "stream",
     "text": [
      "Epoch 56/100 - Train Loss: 0.0643, Val Loss: 0.6142\n"
     ]
    },
    {
     "name": "stderr",
     "output_type": "stream",
     "text": [
      "Epoch 56/100 [Train]:   0%|          | 0/460 [01:02<?, ?it/s, loss=0.0635]\n",
      "Epoch 57/100 [Train]:   0%|          | 0/460 [00:43<?, ?it/s, loss=0.0592]Corrupt JPEG data: premature end of data segment\n",
      "Epoch 57/100 [Train]:   0%|          | 0/460 [00:43<?, ?it/s, loss=0.0615]Corrupt JPEG data: 240 extraneous bytes before marker 0xd9\n",
      "Epoch 57/100 [Train]:   0%|          | 0/460 [00:46<?, ?it/s, loss=0.06]  "
     ]
    },
    {
     "name": "stdout",
     "output_type": "stream",
     "text": [
      "Epoch 57/100 - Train Loss: 0.0590, Val Loss: 0.6205\n"
     ]
    },
    {
     "name": "stderr",
     "output_type": "stream",
     "text": [
      "Epoch 57/100 [Train]:   0%|          | 0/460 [01:01<?, ?it/s, loss=0.06]\n",
      "Corrupt JPEG data: premature end of data segment\n",
      "Corrupt JPEG data: 240 extraneous bytes before marker 0xd9\n"
     ]
    },
    {
     "name": "stdout",
     "output_type": "stream",
     "text": [
      "Epoch 58/100 - Train Loss: 0.0554, Val Loss: 0.6529\n"
     ]
    },
    {
     "name": "stderr",
     "output_type": "stream",
     "text": [
      "Epoch 58/100 [Train]:   0%|          | 0/460 [01:01<?, ?it/s, loss=0.0556]\n",
      "Epoch 59/100 [Train]:   0%|          | 0/460 [00:24<?, ?it/s, loss=0.0609]Corrupt JPEG data: 240 extraneous bytes before marker 0xd9\n",
      "Epoch 59/100 [Train]:   0%|          | 0/460 [00:44<?, ?it/s, loss=0.0551]Corrupt JPEG data: premature end of data segment\n",
      "Epoch 59/100 [Train]:   0%|          | 0/460 [00:46<?, ?it/s, loss=0.0485]"
     ]
    },
    {
     "name": "stdout",
     "output_type": "stream",
     "text": [
      "Epoch 59/100 - Train Loss: 0.0542, Val Loss: 0.6309\n"
     ]
    },
    {
     "name": "stderr",
     "output_type": "stream",
     "text": [
      "Epoch 59/100 [Train]:   0%|          | 0/460 [01:00<?, ?it/s, loss=0.0485]\n",
      "Corrupt JPEG data: premature end of data segment\n",
      "Corrupt JPEG data: 240 extraneous bytes before marker 0xd9\n"
     ]
    },
    {
     "name": "stdout",
     "output_type": "stream",
     "text": [
      "Epoch 60/100 - Train Loss: 0.0530, Val Loss: 0.6502\n"
     ]
    },
    {
     "name": "stderr",
     "output_type": "stream",
     "text": [
      "Epoch 60/100 [Train]:   0%|          | 0/460 [01:01<?, ?it/s, loss=0.0597]\n",
      "Epoch 61/100 [Train]:   0%|          | 0/460 [00:10<?, ?it/s, loss=0.0493]Corrupt JPEG data: premature end of data segment\n",
      "Epoch 61/100 [Train]:   0%|          | 0/460 [00:19<?, ?it/s, loss=0.0549]Corrupt JPEG data: 240 extraneous bytes before marker 0xd9\n",
      "Epoch 61/100 [Train]:   0%|          | 0/460 [00:46<?, ?it/s, loss=0.0554]"
     ]
    },
    {
     "name": "stdout",
     "output_type": "stream",
     "text": [
      "Epoch 61/100 - Train Loss: 0.0517, Val Loss: 0.6442\n"
     ]
    },
    {
     "name": "stderr",
     "output_type": "stream",
     "text": [
      "Epoch 61/100 [Train]:   0%|          | 0/460 [01:01<?, ?it/s, loss=0.0554]\n",
      "Corrupt JPEG data: premature end of data segment\n",
      "Corrupt JPEG data: 240 extraneous bytes before marker 0xd9\n"
     ]
    },
    {
     "name": "stdout",
     "output_type": "stream",
     "text": [
      "Epoch 62/100 - Train Loss: 0.0506, Val Loss: 0.6431\n"
     ]
    },
    {
     "name": "stderr",
     "output_type": "stream",
     "text": [
      "Epoch 62/100 [Train]:   0%|          | 0/460 [01:02<?, ?it/s, loss=0.0489]\n",
      "Epoch 63/100 [Train]:   0%|          | 0/460 [00:21<?, ?it/s, loss=0.0465]Corrupt JPEG data: 240 extraneous bytes before marker 0xd9\n",
      "Epoch 63/100 [Train]:   0%|          | 0/460 [00:43<?, ?it/s, loss=0.0437]Corrupt JPEG data: premature end of data segment\n",
      "Epoch 63/100 [Train]:   0%|          | 0/460 [00:46<?, ?it/s, loss=0.0488]"
     ]
    },
    {
     "name": "stdout",
     "output_type": "stream",
     "text": [
      "Epoch 63/100 - Train Loss: 0.0494, Val Loss: 0.6962\n"
     ]
    },
    {
     "name": "stderr",
     "output_type": "stream",
     "text": [
      "Epoch 63/100 [Train]:   0%|          | 0/460 [01:00<?, ?it/s, loss=0.0488]\n",
      "Corrupt JPEG data: premature end of data segment\n",
      "Corrupt JPEG data: 240 extraneous bytes before marker 0xd9\n"
     ]
    },
    {
     "name": "stdout",
     "output_type": "stream",
     "text": [
      "Epoch 64/100 - Train Loss: 0.0486, Val Loss: 0.6600\n"
     ]
    },
    {
     "name": "stderr",
     "output_type": "stream",
     "text": [
      "Epoch 64/100 [Train]:   0%|          | 0/460 [01:02<?, ?it/s, loss=0.0495]\n",
      "Epoch 65/100 [Train]:   0%|          | 0/460 [00:04<?, ?it/s, loss=0.0487]Corrupt JPEG data: 240 extraneous bytes before marker 0xd9\n",
      "Epoch 65/100 [Train]:   0%|          | 0/460 [00:35<?, ?it/s, loss=0.0473]Corrupt JPEG data: premature end of data segment\n",
      "Epoch 65/100 [Train]:   0%|          | 0/460 [00:46<?, ?it/s, loss=0.0506]"
     ]
    },
    {
     "name": "stdout",
     "output_type": "stream",
     "text": [
      "Epoch 65/100 - Train Loss: 0.0474, Val Loss: 0.6866\n"
     ]
    },
    {
     "name": "stderr",
     "output_type": "stream",
     "text": [
      "Epoch 65/100 [Train]:   0%|          | 0/460 [01:01<?, ?it/s, loss=0.0506]\n",
      "Corrupt JPEG data: premature end of data segment\n",
      "Corrupt JPEG data: 240 extraneous bytes before marker 0xd9\n"
     ]
    },
    {
     "name": "stdout",
     "output_type": "stream",
     "text": [
      "Epoch 66/100 - Train Loss: 0.0470, Val Loss: 0.6654\n"
     ]
    },
    {
     "name": "stderr",
     "output_type": "stream",
     "text": [
      "Epoch 66/100 [Train]:   0%|          | 0/460 [01:01<?, ?it/s, loss=0.0512]\n",
      "Epoch 67/100 [Train]:   0%|          | 0/460 [00:08<?, ?it/s, loss=0.0471]Corrupt JPEG data: 240 extraneous bytes before marker 0xd9\n",
      "Epoch 67/100 [Train]:   0%|          | 0/460 [00:32<?, ?it/s, loss=0.0539]Corrupt JPEG data: premature end of data segment\n",
      "Epoch 67/100 [Train]:   0%|          | 0/460 [00:46<?, ?it/s, loss=0.0475]"
     ]
    },
    {
     "name": "stdout",
     "output_type": "stream",
     "text": [
      "Epoch 67/100 - Train Loss: 0.0464, Val Loss: 0.6917\n"
     ]
    },
    {
     "name": "stderr",
     "output_type": "stream",
     "text": [
      "Epoch 67/100 [Train]:   0%|          | 0/460 [01:00<?, ?it/s, loss=0.0475]\n",
      "Corrupt JPEG data: 240 extraneous bytes before marker 0xd9\n",
      "Corrupt JPEG data: premature end of data segment\n"
     ]
    },
    {
     "name": "stdout",
     "output_type": "stream",
     "text": [
      "Epoch 68/100 - Train Loss: 0.0437, Val Loss: 0.6900\n"
     ]
    },
    {
     "name": "stderr",
     "output_type": "stream",
     "text": [
      "Epoch 68/100 [Train]:   0%|          | 0/460 [01:02<?, ?it/s, loss=0.0445]\n",
      "Epoch 69/100 [Train]:   0%|          | 0/460 [00:19<?, ?it/s, loss=0.045] Corrupt JPEG data: premature end of data segment\n",
      "Epoch 69/100 [Train]:   0%|          | 0/460 [00:25<?, ?it/s, loss=0.0417]Corrupt JPEG data: 240 extraneous bytes before marker 0xd9\n",
      "Epoch 69/100 [Train]:   0%|          | 0/460 [00:46<?, ?it/s, loss=0.0417]"
     ]
    },
    {
     "name": "stdout",
     "output_type": "stream",
     "text": [
      "Epoch 69/100 - Train Loss: 0.0420, Val Loss: 0.7189\n"
     ]
    },
    {
     "name": "stderr",
     "output_type": "stream",
     "text": [
      "Epoch 69/100 [Train]:   0%|          | 0/460 [01:01<?, ?it/s, loss=0.0417]\n",
      "Corrupt JPEG data: 240 extraneous bytes before marker 0xd9\n",
      "Corrupt JPEG data: premature end of data segment\n"
     ]
    },
    {
     "name": "stdout",
     "output_type": "stream",
     "text": [
      "Epoch 70/100 - Train Loss: 0.0413, Val Loss: 0.7200\n"
     ]
    },
    {
     "name": "stderr",
     "output_type": "stream",
     "text": [
      "Epoch 70/100 [Train]:   0%|          | 0/460 [01:01<?, ?it/s, loss=0.039]\n",
      "Epoch 71/100 [Train]:   0%|          | 0/460 [00:15<?, ?it/s, loss=0.0419]Corrupt JPEG data: 240 extraneous bytes before marker 0xd9\n",
      "Epoch 71/100 [Train]:   0%|          | 0/460 [00:29<?, ?it/s, loss=0.0401]Corrupt JPEG data: premature end of data segment\n",
      "Epoch 71/100 [Train]:   0%|          | 0/460 [00:46<?, ?it/s, loss=0.04]  "
     ]
    },
    {
     "name": "stdout",
     "output_type": "stream",
     "text": [
      "Epoch 71/100 - Train Loss: 0.0408, Val Loss: 0.7281\n"
     ]
    },
    {
     "name": "stderr",
     "output_type": "stream",
     "text": [
      "Epoch 71/100 [Train]:   0%|          | 0/460 [01:01<?, ?it/s, loss=0.04]\n",
      "Corrupt JPEG data: premature end of data segment\n",
      "Corrupt JPEG data: 240 extraneous bytes before marker 0xd9\n"
     ]
    },
    {
     "name": "stdout",
     "output_type": "stream",
     "text": [
      "Epoch 72/100 - Train Loss: 0.0405, Val Loss: 0.7311\n"
     ]
    },
    {
     "name": "stderr",
     "output_type": "stream",
     "text": [
      "Epoch 72/100 [Train]:   0%|          | 0/460 [01:02<?, ?it/s, loss=0.0407]\n",
      "Epoch 73/100 [Train]:   0%|          | 0/460 [00:32<?, ?it/s, loss=0.0406]Corrupt JPEG data: premature end of data segment\n",
      "Epoch 73/100 [Train]:   0%|          | 0/460 [00:32<?, ?it/s, loss=0.0389]Corrupt JPEG data: 240 extraneous bytes before marker 0xd9\n",
      "Epoch 73/100 [Train]:   0%|          | 0/460 [00:46<?, ?it/s, loss=0.0411]"
     ]
    },
    {
     "name": "stdout",
     "output_type": "stream",
     "text": [
      "Epoch 73/100 - Train Loss: 0.0401, Val Loss: 0.7582\n"
     ]
    },
    {
     "name": "stderr",
     "output_type": "stream",
     "text": [
      "Epoch 73/100 [Train]:   0%|          | 0/460 [01:01<?, ?it/s, loss=0.0411]\n",
      "Corrupt JPEG data: premature end of data segment\n",
      "Corrupt JPEG data: 240 extraneous bytes before marker 0xd9\n"
     ]
    },
    {
     "name": "stdout",
     "output_type": "stream",
     "text": [
      "Epoch 74/100 - Train Loss: 0.0395, Val Loss: 0.7485\n"
     ]
    },
    {
     "name": "stderr",
     "output_type": "stream",
     "text": [
      "Epoch 74/100 [Train]:   0%|          | 0/460 [01:02<?, ?it/s, loss=0.038]\n",
      "Epoch 75/100 [Train]:   0%|          | 0/460 [00:05<?, ?it/s, loss=0.0412]Corrupt JPEG data: 240 extraneous bytes before marker 0xd9\n",
      "Epoch 75/100 [Train]:   0%|          | 0/460 [00:24<?, ?it/s, loss=0.0405]Corrupt JPEG data: premature end of data segment\n",
      "Epoch 75/100 [Train]:   0%|          | 0/460 [00:46<?, ?it/s, loss=0.0349]"
     ]
    },
    {
     "name": "stdout",
     "output_type": "stream",
     "text": [
      "Epoch 75/100 - Train Loss: 0.0391, Val Loss: 0.7392\n"
     ]
    },
    {
     "name": "stderr",
     "output_type": "stream",
     "text": [
      "Epoch 75/100 [Train]:   0%|          | 0/460 [01:01<?, ?it/s, loss=0.0349]\n",
      "Corrupt JPEG data: premature end of data segment\n",
      "Corrupt JPEG data: 240 extraneous bytes before marker 0xd9\n"
     ]
    },
    {
     "name": "stdout",
     "output_type": "stream",
     "text": [
      "Epoch 76/100 - Train Loss: 0.0388, Val Loss: 0.7371\n"
     ]
    },
    {
     "name": "stderr",
     "output_type": "stream",
     "text": [
      "Epoch 76/100 [Train]:   0%|          | 0/460 [01:01<?, ?it/s, loss=0.0392]\n",
      "Epoch 77/100 [Train]:   0%|          | 0/460 [00:14<?, ?it/s, loss=0.038] Corrupt JPEG data: 240 extraneous bytes before marker 0xd9\n",
      "Epoch 77/100 [Train]:   0%|          | 0/460 [00:34<?, ?it/s, loss=0.0369]Corrupt JPEG data: premature end of data segment\n",
      "Epoch 77/100 [Train]:   0%|          | 0/460 [00:46<?, ?it/s, loss=0.0375]"
     ]
    },
    {
     "name": "stdout",
     "output_type": "stream",
     "text": [
      "Epoch 77/100 - Train Loss: 0.0382, Val Loss: 0.7556\n"
     ]
    },
    {
     "name": "stderr",
     "output_type": "stream",
     "text": [
      "Epoch 77/100 [Train]:   0%|          | 0/460 [01:01<?, ?it/s, loss=0.0375]\n",
      "Corrupt JPEG data: premature end of data segment\n",
      "Corrupt JPEG data: 240 extraneous bytes before marker 0xd9\n"
     ]
    },
    {
     "name": "stdout",
     "output_type": "stream",
     "text": [
      "Epoch 78/100 - Train Loss: 0.0380, Val Loss: 0.7626\n"
     ]
    },
    {
     "name": "stderr",
     "output_type": "stream",
     "text": [
      "Epoch 78/100 [Train]:   0%|          | 0/460 [01:01<?, ?it/s, loss=0.0289]\n",
      "Epoch 79/100 [Train]:   0%|          | 0/460 [00:10<?, ?it/s, loss=0.0325]Corrupt JPEG data: 240 extraneous bytes before marker 0xd9\n",
      "Epoch 79/100 [Train]:   0%|          | 0/460 [00:42<?, ?it/s, loss=0.0348]Corrupt JPEG data: premature end of data segment\n",
      "Epoch 79/100 [Train]:   0%|          | 0/460 [00:46<?, ?it/s, loss=0.0399]"
     ]
    },
    {
     "name": "stdout",
     "output_type": "stream",
     "text": [
      "Epoch 79/100 - Train Loss: 0.0368, Val Loss: 0.7768\n"
     ]
    },
    {
     "name": "stderr",
     "output_type": "stream",
     "text": [
      "Epoch 79/100 [Train]:   0%|          | 0/460 [01:01<?, ?it/s, loss=0.0399]\n",
      "Corrupt JPEG data: 240 extraneous bytes before marker 0xd9\n",
      "Corrupt JPEG data: premature end of data segment\n"
     ]
    },
    {
     "name": "stdout",
     "output_type": "stream",
     "text": [
      "Epoch 80/100 - Train Loss: 0.0361, Val Loss: 0.7750\n"
     ]
    },
    {
     "name": "stderr",
     "output_type": "stream",
     "text": [
      "Epoch 80/100 [Train]:   0%|          | 0/460 [01:01<?, ?it/s, loss=0.0379]\n",
      "Epoch 81/100 [Train]:   0%|          | 0/460 [00:27<?, ?it/s, loss=0.0391]Corrupt JPEG data: premature end of data segment\n",
      "Epoch 81/100 [Train]:   0%|          | 0/460 [00:38<?, ?it/s, loss=0.034] Corrupt JPEG data: 240 extraneous bytes before marker 0xd9\n",
      "Epoch 81/100 [Train]:   0%|          | 0/460 [00:46<?, ?it/s, loss=0.035] "
     ]
    },
    {
     "name": "stdout",
     "output_type": "stream",
     "text": [
      "Epoch 81/100 - Train Loss: 0.0359, Val Loss: 0.7624\n"
     ]
    },
    {
     "name": "stderr",
     "output_type": "stream",
     "text": [
      "Epoch 81/100 [Train]:   0%|          | 0/460 [01:01<?, ?it/s, loss=0.035]\n",
      "Corrupt JPEG data: 240 extraneous bytes before marker 0xd9\n",
      "Corrupt JPEG data: premature end of data segment\n"
     ]
    },
    {
     "name": "stdout",
     "output_type": "stream",
     "text": [
      "Epoch 82/100 - Train Loss: 0.0354, Val Loss: 0.7757\n"
     ]
    },
    {
     "name": "stderr",
     "output_type": "stream",
     "text": [
      "Epoch 82/100 [Train]:   0%|          | 0/460 [01:01<?, ?it/s, loss=0.0354]\n",
      "Epoch 83/100 [Train]:   0%|          | 0/460 [00:21<?, ?it/s, loss=0.0344]Corrupt JPEG data: premature end of data segment\n",
      "Epoch 83/100 [Train]:   0%|          | 0/460 [00:44<?, ?it/s, loss=0.0334]Corrupt JPEG data: 240 extraneous bytes before marker 0xd9\n",
      "Epoch 83/100 [Train]:   0%|          | 0/460 [00:46<?, ?it/s, loss=0.0309]"
     ]
    },
    {
     "name": "stdout",
     "output_type": "stream",
     "text": [
      "Epoch 83/100 - Train Loss: 0.0353, Val Loss: 0.7774\n"
     ]
    },
    {
     "name": "stderr",
     "output_type": "stream",
     "text": [
      "Epoch 83/100 [Train]:   0%|          | 0/460 [01:01<?, ?it/s, loss=0.0309]\n",
      "Corrupt JPEG data: 240 extraneous bytes before marker 0xd9\n",
      "Corrupt JPEG data: premature end of data segment\n"
     ]
    },
    {
     "name": "stdout",
     "output_type": "stream",
     "text": [
      "Epoch 84/100 - Train Loss: 0.0350, Val Loss: 0.7954\n"
     ]
    },
    {
     "name": "stderr",
     "output_type": "stream",
     "text": [
      "Epoch 84/100 [Train]:   0%|          | 0/460 [01:01<?, ?it/s, loss=0.0339]\n",
      "Epoch 85/100 [Train]:   0%|          | 0/460 [00:17<?, ?it/s, loss=0.0428]Corrupt JPEG data: premature end of data segment\n",
      "Epoch 85/100 [Train]:   0%|          | 0/460 [00:18<?, ?it/s, loss=0.0291]Corrupt JPEG data: 240 extraneous bytes before marker 0xd9\n",
      "Epoch 85/100 [Train]:   0%|          | 0/460 [00:46<?, ?it/s, loss=0.0328]"
     ]
    },
    {
     "name": "stdout",
     "output_type": "stream",
     "text": [
      "Epoch 85/100 - Train Loss: 0.0349, Val Loss: 0.7783\n"
     ]
    },
    {
     "name": "stderr",
     "output_type": "stream",
     "text": [
      "Epoch 85/100 [Train]:   0%|          | 0/460 [01:01<?, ?it/s, loss=0.0328]\n",
      "Corrupt JPEG data: 240 extraneous bytes before marker 0xd9\n",
      "Corrupt JPEG data: premature end of data segment\n"
     ]
    },
    {
     "name": "stdout",
     "output_type": "stream",
     "text": [
      "Epoch 86/100 - Train Loss: 0.0348, Val Loss: 0.7912\n"
     ]
    },
    {
     "name": "stderr",
     "output_type": "stream",
     "text": [
      "Epoch 86/100 [Train]:   0%|          | 0/460 [01:01<?, ?it/s, loss=0.0313]\n",
      "Epoch 87/100 [Train]:   0%|          | 0/460 [00:04<?, ?it/s, loss=0.0294]Corrupt JPEG data: 240 extraneous bytes before marker 0xd9\n",
      "Epoch 87/100 [Train]:   0%|          | 0/460 [00:25<?, ?it/s, loss=0.0363]Corrupt JPEG data: premature end of data segment\n",
      "Epoch 87/100 [Train]:   0%|          | 0/460 [00:46<?, ?it/s, loss=0.0311]"
     ]
    },
    {
     "name": "stdout",
     "output_type": "stream",
     "text": [
      "Epoch 87/100 - Train Loss: 0.0343, Val Loss: 0.8080\n"
     ]
    },
    {
     "name": "stderr",
     "output_type": "stream",
     "text": [
      "Epoch 87/100 [Train]:   0%|          | 0/460 [01:01<?, ?it/s, loss=0.0311]\n",
      "Corrupt JPEG data: premature end of data segment\n",
      "Corrupt JPEG data: 240 extraneous bytes before marker 0xd9\n"
     ]
    },
    {
     "name": "stdout",
     "output_type": "stream",
     "text": [
      "Epoch 88/100 - Train Loss: 0.0341, Val Loss: 0.7984\n"
     ]
    },
    {
     "name": "stderr",
     "output_type": "stream",
     "text": [
      "Epoch 88/100 [Train]:   0%|          | 0/460 [01:01<?, ?it/s, loss=0.0287]\n",
      "Epoch 89/100 [Train]:   0%|          | 0/460 [00:09<?, ?it/s, loss=0.0288]Corrupt JPEG data: premature end of data segment\n",
      "Epoch 89/100 [Train]:   0%|          | 0/460 [00:14<?, ?it/s, loss=0.0333]Corrupt JPEG data: 240 extraneous bytes before marker 0xd9\n",
      "Epoch 89/100 [Train]:   0%|          | 0/460 [00:46<?, ?it/s, loss=0.0303]"
     ]
    },
    {
     "name": "stdout",
     "output_type": "stream",
     "text": [
      "Epoch 89/100 - Train Loss: 0.0340, Val Loss: 0.7867\n"
     ]
    },
    {
     "name": "stderr",
     "output_type": "stream",
     "text": [
      "Epoch 89/100 [Train]:   0%|          | 0/460 [01:01<?, ?it/s, loss=0.0303]\n",
      "Corrupt JPEG data: premature end of data segment\n",
      "Corrupt JPEG data: 240 extraneous bytes before marker 0xd9\n"
     ]
    },
    {
     "name": "stdout",
     "output_type": "stream",
     "text": [
      "Epoch 90/100 - Train Loss: 0.0335, Val Loss: 0.7956\n"
     ]
    },
    {
     "name": "stderr",
     "output_type": "stream",
     "text": [
      "Epoch 90/100 [Train]:   0%|          | 0/460 [01:01<?, ?it/s, loss=0.028]\n",
      "Epoch 91/100 [Train]:   0%|          | 0/460 [00:13<?, ?it/s, loss=0.0354]Corrupt JPEG data: premature end of data segment\n",
      "Epoch 91/100 [Train]:   0%|          | 0/460 [00:34<?, ?it/s, loss=0.0321]Corrupt JPEG data: 240 extraneous bytes before marker 0xd9\n",
      "Epoch 91/100 [Train]:   0%|          | 0/460 [00:46<?, ?it/s, loss=0.0301]"
     ]
    },
    {
     "name": "stdout",
     "output_type": "stream",
     "text": [
      "Epoch 91/100 - Train Loss: 0.0332, Val Loss: 0.8196\n"
     ]
    },
    {
     "name": "stderr",
     "output_type": "stream",
     "text": [
      "Epoch 91/100 [Train]:   0%|          | 0/460 [01:01<?, ?it/s, loss=0.0301]\n",
      "Corrupt JPEG data: 240 extraneous bytes before marker 0xd9\n",
      "Corrupt JPEG data: premature end of data segment\n"
     ]
    },
    {
     "name": "stdout",
     "output_type": "stream",
     "text": [
      "Epoch 92/100 - Train Loss: 0.0331, Val Loss: 0.8229\n"
     ]
    },
    {
     "name": "stderr",
     "output_type": "stream",
     "text": [
      "Epoch 92/100 [Train]:   0%|          | 0/460 [01:02<?, ?it/s, loss=0.0317]\n",
      "Epoch 93/100 [Train]:   0%|          | 0/460 [00:23<?, ?it/s, loss=0.0329]Corrupt JPEG data: premature end of data segment\n",
      "Epoch 93/100 [Train]:   0%|          | 0/460 [00:24<?, ?it/s, loss=0.0328]Corrupt JPEG data: 240 extraneous bytes before marker 0xd9\n",
      "Epoch 93/100 [Train]:   0%|          | 0/460 [00:46<?, ?it/s, loss=0.0301]"
     ]
    },
    {
     "name": "stdout",
     "output_type": "stream",
     "text": [
      "Epoch 93/100 - Train Loss: 0.0331, Val Loss: 0.8233\n"
     ]
    },
    {
     "name": "stderr",
     "output_type": "stream",
     "text": [
      "Epoch 93/100 [Train]:   0%|          | 0/460 [01:00<?, ?it/s, loss=0.0301]\n",
      "Corrupt JPEG data: premature end of data segment\n",
      "Corrupt JPEG data: 240 extraneous bytes before marker 0xd9\n"
     ]
    },
    {
     "name": "stdout",
     "output_type": "stream",
     "text": [
      "Epoch 94/100 - Train Loss: 0.0329, Val Loss: 0.8217\n"
     ]
    },
    {
     "name": "stderr",
     "output_type": "stream",
     "text": [
      "Epoch 94/100 [Train]:   0%|          | 0/460 [01:01<?, ?it/s, loss=0.0308]\n",
      "Epoch 95/100 [Train]:   0%|          | 0/460 [00:01<?, ?it/s, loss=0.0319]Corrupt JPEG data: 240 extraneous bytes before marker 0xd9\n",
      "Epoch 95/100 [Train]:   0%|          | 0/460 [00:22<?, ?it/s, loss=0.034] Corrupt JPEG data: premature end of data segment\n",
      "Epoch 95/100 [Train]:   0%|          | 0/460 [00:46<?, ?it/s, loss=0.0329]"
     ]
    },
    {
     "name": "stdout",
     "output_type": "stream",
     "text": [
      "Epoch 95/100 - Train Loss: 0.0327, Val Loss: 0.8363\n"
     ]
    },
    {
     "name": "stderr",
     "output_type": "stream",
     "text": [
      "Epoch 95/100 [Train]:   0%|          | 0/460 [01:01<?, ?it/s, loss=0.0329]\n",
      "Corrupt JPEG data: 240 extraneous bytes before marker 0xd9\n",
      "Corrupt JPEG data: premature end of data segment\n"
     ]
    },
    {
     "name": "stdout",
     "output_type": "stream",
     "text": [
      "Epoch 96/100 - Train Loss: 0.0325, Val Loss: 0.8145\n"
     ]
    },
    {
     "name": "stderr",
     "output_type": "stream",
     "text": [
      "Epoch 96/100 [Train]:   0%|          | 0/460 [01:02<?, ?it/s, loss=0.041]\n",
      "Epoch 97/100 [Train]:   0%|          | 0/460 [00:42<?, ?it/s, loss=0.0318]Corrupt JPEG data: premature end of data segment\n",
      "Epoch 97/100 [Train]:   0%|          | 0/460 [00:43<?, ?it/s, loss=0.0315]Corrupt JPEG data: 240 extraneous bytes before marker 0xd9\n",
      "Epoch 97/100 [Train]:   0%|          | 0/460 [00:46<?, ?it/s, loss=0.0305]"
     ]
    },
    {
     "name": "stdout",
     "output_type": "stream",
     "text": [
      "Epoch 97/100 - Train Loss: 0.0324, Val Loss: 0.8257\n"
     ]
    },
    {
     "name": "stderr",
     "output_type": "stream",
     "text": [
      "Epoch 97/100 [Train]:   0%|          | 0/460 [01:01<?, ?it/s, loss=0.0305]\n",
      "Corrupt JPEG data: 240 extraneous bytes before marker 0xd9\n",
      "Corrupt JPEG data: premature end of data segment\n"
     ]
    },
    {
     "name": "stdout",
     "output_type": "stream",
     "text": [
      "Epoch 98/100 - Train Loss: 0.0324, Val Loss: 0.8107\n"
     ]
    },
    {
     "name": "stderr",
     "output_type": "stream",
     "text": [
      "Epoch 98/100 [Train]:   0%|          | 0/460 [01:01<?, ?it/s, loss=0.0273]\n",
      "Epoch 99/100 [Train]:   0%|          | 0/460 [00:25<?, ?it/s, loss=0.0286]Corrupt JPEG data: 240 extraneous bytes before marker 0xd9\n",
      "Epoch 99/100 [Train]:   0%|          | 0/460 [00:40<?, ?it/s, loss=0.0339]Corrupt JPEG data: premature end of data segment\n",
      "Epoch 99/100 [Train]:   0%|          | 0/460 [00:46<?, ?it/s, loss=0.0357]"
     ]
    },
    {
     "name": "stdout",
     "output_type": "stream",
     "text": [
      "Epoch 99/100 - Train Loss: 0.0323, Val Loss: 0.8312\n"
     ]
    },
    {
     "name": "stderr",
     "output_type": "stream",
     "text": [
      "Epoch 99/100 [Train]:   0%|          | 0/460 [01:01<?, ?it/s, loss=0.0357]\n",
      "Corrupt JPEG data: premature end of data segment\n",
      "Corrupt JPEG data: 240 extraneous bytes before marker 0xd9\n"
     ]
    },
    {
     "name": "stdout",
     "output_type": "stream",
     "text": [
      "Epoch 100/100 - Train Loss: 0.0320, Val Loss: 0.8256\n"
     ]
    }
   ],
   "source": [
    "best_val_loss = float('inf')\n",
    "\n",
    "for epoch in range(EPOCHS):\n",
    "    model.train()\n",
    "    train_loss = 0.0\n",
    "    train_progress= tqdm(train_dataloader, desc=f\"Epoch {epoch+1}/{EPOCHS} [Train]\")\n",
    "    for images, masks in train_dataloader:\n",
    "        images = images.to(device, non_blocking=True)\n",
    "        masks = masks.squeeze(1).long().to(device, non_blocking=True)\n",
    "        \n",
    "        optimizer.zero_grad()\n",
    "        output = model(images)\n",
    "        loss = criterion(output, masks)\n",
    "        \n",
    "        loss.backward()\n",
    "        torch.nn.utils.clip_grad_norm_(model.parameters(), max_norm=1.0)\n",
    "        optimizer.step()\n",
    "        \n",
    "        train_loss += loss.item()\n",
    "        train_progress.set_postfix(loss=loss.item())\n",
    "    \n",
    "    model.eval()\n",
    "    val_loss = 0.0\n",
    "    with torch.no_grad():\n",
    "        for images, masks in val_dataloader:\n",
    "            images = images.to(device, non_blocking=True)\n",
    "            masks = masks.squeeze(1).long().to(device, non_blocking=True)\n",
    "            \n",
    "            outputs = model(images)\n",
    "            loss = criterion(outputs, masks)\n",
    "            val_loss += loss.item()\n",
    "    \n",
    "    avg_train_loss = train_loss / len(train_dataloader)\n",
    "    avg_val_loss = val_loss / len(val_dataloader)\n",
    "    \n",
    "    print(f\"Epoch {epoch+1}/{EPOCHS} - Train Loss: {avg_train_loss:.4f}, Val Loss: {avg_val_loss:.4f}\")\n",
    "    scheduler.step(avg_val_loss)\n",
    "    \n",
    "    if avg_val_loss < best_val_loss:\n",
    "        best_val_loss = avg_val_loss\n",
    "        torch.save({\n",
    "            'epoch': epoch,\n",
    "            'model_state_dict': model.state_dict(),\n",
    "            'optimizer_state_dict': optimizer.state_dict(),\n",
    "            'best_val_loss': best_val_loss,\n",
    "        }, 'best_unet_model.pth')\n",
    "        print(f\"New best model saved with validation loss: {best_val_loss:.4f}\")\n",
    "    \n",
    "    if optimizer.param_groups[0]['lr'] < 1e-7:\n",
    "        print(\"Learning rate too small, stopping training\")\n",
    "        break"
   ]
  },
  {
   "cell_type": "code",
   "execution_count": 9,
   "id": "c9c21ec0",
   "metadata": {},
   "outputs": [],
   "source": [
    "def evaluate_model(model, val_dataloader, device, num_classes=3):\n",
    "    def pixel_accuracy(preds, labels):\n",
    "        correct = (preds == labels).sum().item()\n",
    "        total = labels.numel()\n",
    "        return correct / total\n",
    "\n",
    "    def intersection_over_union(preds, labels, num_classes):\n",
    "        ious = []\n",
    "        preds = preds.flatten()\n",
    "        labels = labels.flatten()\n",
    "        \n",
    "        for cls in range(num_classes):\n",
    "            pred_inds = preds == cls\n",
    "            target_inds = labels == cls\n",
    "            intersection = (pred_inds & target_inds).sum().item()\n",
    "            union = (pred_inds | target_inds).sum().item()\n",
    "            \n",
    "            if union == 0:\n",
    "                ious.append(float('nan'))\n",
    "            else:\n",
    "                ious.append(intersection / union)\n",
    "        \n",
    "        return ious\n",
    "\n",
    "    def dice_score(preds, labels, num_classes):\n",
    "        dice_scores = []\n",
    "        preds = preds.flatten()\n",
    "        labels = labels.flatten()\n",
    "        \n",
    "        for cls in range(num_classes):\n",
    "            pred_inds = preds == cls\n",
    "            target_inds = labels == cls\n",
    "            intersection = (pred_inds & target_inds).sum().item()\n",
    "            total = pred_inds.sum().item() + target_inds.sum().item()\n",
    "            \n",
    "            if total == 0:\n",
    "                dice_scores.append(float('nan'))\n",
    "            else:\n",
    "                dice_scores.append(2 * intersection / total)\n",
    "        \n",
    "        return dice_scores\n",
    "\n",
    "    model.eval()\n",
    "    with torch.no_grad():\n",
    "        total_acc = 0\n",
    "        all_ious = []\n",
    "        all_dices = []\n",
    "\n",
    "        for image, mask in tqdm(val_dataloader, desc=\"Evaluating\"):\n",
    "            image = image.to(device)\n",
    "            mask = mask.squeeze(1).long().to(device)\n",
    "\n",
    "            outputs = model(image)\n",
    "            preds = outputs.argmax(dim=1)\n",
    "\n",
    "            total_acc += pixel_accuracy(preds, mask)\n",
    "\n",
    "            ious = intersection_over_union(preds, mask, num_classes=3)\n",
    "            dices = dice_score(preds, mask, num_classes=3)\n",
    "            \n",
    "            all_ious.append(ious)\n",
    "            all_dices.append(dices)\n",
    "\n",
    "        avg_acc = total_acc / len(val_dataloader)\n",
    "        print(f\"Pixel Accuracy: {avg_acc:.4f}\")\n",
    "        print(f\"Mean IoU: {torch.tensor(all_ious).nanmean(dim=0)}\")\n",
    "        print(f\"Dice Score: {torch.tensor(all_dices).nanmean(dim=0)}\")"
   ]
  },
  {
   "cell_type": "code",
   "execution_count": 10,
   "id": "173e9a7f",
   "metadata": {},
   "outputs": [
    {
     "name": "stderr",
     "output_type": "stream",
     "text": [
      "Evaluating: 100%|██████████| 458/458 [00:15<00:00, 29.78it/s]"
     ]
    },
    {
     "name": "stdout",
     "output_type": "stream",
     "text": [
      "Pixel Accuracy: 0.9068\n",
      "Mean IoU: tensor([0.9019, 0.8251, 0.5387])\n",
      "Dice Score: tensor([0.9479, 0.9028, 0.6989])\n"
     ]
    },
    {
     "name": "stderr",
     "output_type": "stream",
     "text": [
      "\n"
     ]
    }
   ],
   "source": [
    "evaluate_model(model, val_dataloader, device, num_classes=3)"
   ]
  },
  {
   "cell_type": "code",
   "execution_count": null,
   "id": "c7680779",
   "metadata": {},
   "outputs": [
    {
     "data": {
      "image/png": "[encoded data removed]",
      "text/plain": [
       "<Figure size 640x480 with 2 Axes>"
      ]
     },
     "metadata": {},
     "output_type": "display_data"
    }
   ],
   "source": [
    "image, mask = val_dataset.__getitem__(1)\n",
    "image = image.unsqueeze(0).float().to(device)\n",
    "mask = mask.squeeze(0).long().to(device)\n",
    "\n",
    "with torch.no_grad():\n",
    "    output = model(image)\n",
    "    pred = output.argmax(dim=1).squeeze(0)\n",
    "\n",
    "fig, axis = plt.subplots(1,3)\n",
    "\n",
    "axis[0].imshow(mask.cpu())\n",
    "axis[0].set_title(\"Original Mask\")\n",
    "axis[0].axis(\"off\")\n",
    "\n",
    "axis[1].imshow(pred.cpu())\n",
    "axis[1].set_title(\"Predicted Mask\")\n",
    "axis[1].axis(\"off\")\n",
    "\n",
    "axis[2].imshow(image.cpu())\n",
    "axis[2].set_title(\"original image\")\n",
    "axis[2].axis(\"off\")\n",
    "\n",
    "plt.show()"
   ]
  },
  {
   "cell_type": "code",
   "execution_count": null,
   "id": "789348c8",
   "metadata": {},
   "outputs": [],
   "source": []
  }
 ],
 "metadata": {
  "kernelspec": {
   "display_name": "Python 3",
   "language": "python",
   "name": "python3"
  },
  "language_info": {
   "codemirror_mode": {
    "name": "ipython",
    "version": 3
   },
   "file_extension": ".py",
   "mimetype": "text/x-python",
   "name": "python",
   "nbconvert_exporter": "python",
   "pygments_lexer": "ipython3",
   "version": "3.9.23"
  }
 },
 "nbformat": 4,
 "nbformat_minor": 5
}
