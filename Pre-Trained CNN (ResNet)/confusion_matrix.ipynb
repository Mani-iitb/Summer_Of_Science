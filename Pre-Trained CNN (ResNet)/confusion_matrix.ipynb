{
 "cells": [
  {
   "cell_type": "code",
   "execution_count": 6,
   "id": "ccc6af60",
   "metadata": {},
   "outputs": [],
   "source": [
    "from sklearn.datasets import load_iris\n",
    "from sklearn.model_selection import train_test_split\n",
    "from sklearn.ensemble import RandomForestClassifier\n",
    "from sklearn.metrics import confusion_matrix, ConfusionMatrixDisplay\n",
    "import matplotlib.pyplot as plt\n",
    "import numpy as np"
   ]
  },
  {
   "cell_type": "code",
   "execution_count": 5,
   "id": "269065d5",
   "metadata": {},
   "outputs": [
    {
     "data": {
      "image/png": "[encoded data removed]",
      "text/plain": [
       "<Figure size 640x480 with 2 Axes>"
      ]
     },
     "metadata": {},
     "output_type": "display_data"
    }
   ],
   "source": [
    "X, y = load_iris(return_X_y=True)\n",
    "X_train, X_test, y_train, y_test = train_test_split(X, y, test_size=0.2)\n",
    "\n",
    "clf = RandomForestClassifier().fit(X_train, y_train)\n",
    "y_pred = clf.predict(X_test)\n",
    "\n",
    "cm = confusion_matrix(y_test, y_pred)\n",
    "disp = ConfusionMatrixDisplay(confusion_matrix=cm)\n",
    "disp.plot()\n",
    "plt.show()"
   ]
  },
  {
   "cell_type": "code",
   "execution_count": 7,
   "id": "849b92ba",
   "metadata": {},
   "outputs": [],
   "source": [
    "def metrics_from_confusion_matrix(cm):\n",
    "    per_class = []\n",
    "    total = np.sum(cm)\n",
    "    accuracy = np.trace(cm) / total\n",
    "\n",
    "    for i in range(len(cm)):\n",
    "        TP = cm[i, i]\n",
    "        FP = cm[:, i].sum() - TP\n",
    "        FN = cm[i, :].sum() - TP\n",
    "        TN = total - (TP + FP + FN)\n",
    "\n",
    "        precision = TP / (TP + FP) if (TP + FP) != 0 else 0\n",
    "        recall = TP / (TP + FN) if (TP + FN) != 0 else 0\n",
    "        specificity = TN / (TN + FP) if (TN + FP) != 0 else 0\n",
    "        f1 = 2 * precision * recall / (precision + recall) if (precision + recall) else 0\n",
    "\n",
    "        per_class.append({\n",
    "            'class': i,\n",
    "            'TP': TP, 'FP': FP, 'FN': FN, 'TN': TN,\n",
    "            'Precision': precision,\n",
    "            'Recall': recall,\n",
    "            'Specificity': specificity,\n",
    "            'F1': f1\n",
    "        })\n",
    "\n",
    "    return accuracy, per_class"
   ]
  },
  {
   "cell_type": "code",
   "execution_count": 8,
   "id": "40c2e9be",
   "metadata": {},
   "outputs": [
    {
     "name": "stdout",
     "output_type": "stream",
     "text": [
      "Overall Accuracy: 1.00\n",
      "Class 0 -> Precision: 1.00, Recall: 1.00, F1: 1.00\n",
      "Class 1 -> Precision: 1.00, Recall: 1.00, F1: 1.00\n",
      "Class 2 -> Precision: 1.00, Recall: 1.00, F1: 1.00\n"
     ]
    }
   ],
   "source": [
    "accuracy, details = metrics_from_confusion_matrix(cm)\n",
    "\n",
    "print(f\"Overall Accuracy: {accuracy:.2f}\")\n",
    "for d in details:\n",
    "    print(f\"Class {d['class']} -> Precision: {d['Precision']:.2f}, Recall: {d['Recall']:.2f}, F1: {d['F1']:.2f}\")"
   ]
  },
  {
   "cell_type": "code",
   "execution_count": null,
   "id": "14ccbb6d",
   "metadata": {},
   "outputs": [],
   "source": []
  }
 ],
 "metadata": {
  "kernelspec": {
   "display_name": "Python 3",
   "language": "python",
   "name": "python3"
  },
  "language_info": {
   "codemirror_mode": {
    "name": "ipython",
    "version": 3
   },
   "file_extension": ".py",
   "mimetype": "text/x-python",
   "name": "python",
   "nbconvert_exporter": "python",
   "pygments_lexer": "ipython3",
   "version": "3.12.5"
  }
 },
 "nbformat": 4,
 "nbformat_minor": 5
}
